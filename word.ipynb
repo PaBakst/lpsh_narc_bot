{
 "cells": [
  {
   "cell_type": "code",
   "execution_count": 1,
   "id": "7cb25337-ab60-4647-8b6b-4d1e56e3c43e",
   "metadata": {},
   "outputs": [
    {
     "name": "stdout",
     "output_type": "stream",
     "text": [
      "Collecting python-telegram-bot\n",
      "  Downloading python_telegram_bot-22.2-py3-none-any.whl.metadata (17 kB)\n",
      "Requirement already satisfied: openai in /Users/pabakst/Conda/anaconda3/lib/python3.9/site-packages (1.35.14)\n",
      "Collecting python-dotenv\n",
      "  Downloading python_dotenv-1.1.1-py3-none-any.whl.metadata (24 kB)\n",
      "Requirement already satisfied: httpx<0.29,>=0.27 in /Users/pabakst/Conda/anaconda3/lib/python3.9/site-packages (from python-telegram-bot) (0.27.0)\n",
      "Requirement already satisfied: anyio<5,>=3.5.0 in /Users/pabakst/Conda/anaconda3/lib/python3.9/site-packages (from openai) (3.5.0)\n",
      "Requirement already satisfied: distro<2,>=1.7.0 in /Users/pabakst/Conda/anaconda3/lib/python3.9/site-packages (from openai) (1.9.0)\n",
      "Requirement already satisfied: pydantic<3,>=1.9.0 in /Users/pabakst/Conda/anaconda3/lib/python3.9/site-packages (from openai) (1.10.7)\n",
      "Requirement already satisfied: sniffio in /Users/pabakst/Conda/anaconda3/lib/python3.9/site-packages (from openai) (1.2.0)\n",
      "Requirement already satisfied: tqdm>4 in /Users/pabakst/Conda/anaconda3/lib/python3.9/site-packages (from openai) (4.64.0)\n",
      "Requirement already satisfied: typing-extensions<5,>=4.7 in /Users/pabakst/Conda/anaconda3/lib/python3.9/site-packages (from openai) (4.12.2)\n",
      "Requirement already satisfied: idna>=2.8 in /Users/pabakst/Conda/anaconda3/lib/python3.9/site-packages (from anyio<5,>=3.5.0->openai) (3.3)\n",
      "Requirement already satisfied: certifi in /Users/pabakst/Conda/anaconda3/lib/python3.9/site-packages (from httpx<0.29,>=0.27->python-telegram-bot) (2021.10.8)\n",
      "Requirement already satisfied: httpcore==1.* in /Users/pabakst/Conda/anaconda3/lib/python3.9/site-packages (from httpx<0.29,>=0.27->python-telegram-bot) (1.0.5)\n",
      "Requirement already satisfied: h11<0.15,>=0.13 in /Users/pabakst/Conda/anaconda3/lib/python3.9/site-packages (from httpcore==1.*->httpx<0.29,>=0.27->python-telegram-bot) (0.14.0)\n",
      "Downloading python_telegram_bot-22.2-py3-none-any.whl (708 kB)\n",
      "\u001b[2K   \u001b[90m━━━━━━━━━━━━━━━━━━━━━━━━━━━━━━━━━━━━━━━━\u001b[0m \u001b[32m708.7/708.7 kB\u001b[0m \u001b[31m2.7 MB/s\u001b[0m eta \u001b[36m0:00:00\u001b[0m-:--:--\u001b[0m\n",
      "\u001b[?25hDownloading python_dotenv-1.1.1-py3-none-any.whl (20 kB)\n",
      "Installing collected packages: python-dotenv, python-telegram-bot\n",
      "Successfully installed python-dotenv-1.1.1 python-telegram-bot-22.2\n",
      "\n",
      "\u001b[1m[\u001b[0m\u001b[34;49mnotice\u001b[0m\u001b[1;39;49m]\u001b[0m\u001b[39;49m A new release of pip is available: \u001b[0m\u001b[31;49m25.0.1\u001b[0m\u001b[39;49m -> \u001b[0m\u001b[32;49m25.1.1\u001b[0m\n",
      "\u001b[1m[\u001b[0m\u001b[34;49mnotice\u001b[0m\u001b[1;39;49m]\u001b[0m\u001b[39;49m To update, run: \u001b[0m\u001b[32;49mpip install --upgrade pip\u001b[0m\n",
      "Note: you may need to restart the kernel to use updated packages.\n"
     ]
    }
   ],
   "source": [
    "pip install python-telegram-bot openai python-dotenv"
   ]
  },
  {
   "cell_type": "code",
   "execution_count": 2,
   "id": "f19c29a6-d003-4869-bcaf-2422316bdc66",
   "metadata": {},
   "outputs": [
    {
     "ename": "SyntaxError",
     "evalue": "invalid syntax (3401296504.py, line 1)",
     "output_type": "error",
     "traceback": [
      "\u001b[0;36m  Input \u001b[0;32mIn [2]\u001b[0;36m\u001b[0m\n\u001b[0;31m    python3 bot.py\u001b[0m\n\u001b[0m            ^\u001b[0m\n\u001b[0;31mSyntaxError\u001b[0m\u001b[0;31m:\u001b[0m invalid syntax\n"
     ]
    }
   ],
   "source": []
  },
  {
   "cell_type": "code",
   "execution_count": null,
   "id": "2f0afb96-c188-4013-a71d-a5a467875c54",
   "metadata": {},
   "outputs": [],
   "source": []
  }
 ],
 "metadata": {
  "kernelspec": {
   "display_name": "Python 3 (ipykernel)",
   "language": "python",
   "name": "python3"
  },
  "language_info": {
   "codemirror_mode": {
    "name": "ipython",
    "version": 3
   },
   "file_extension": ".py",
   "mimetype": "text/x-python",
   "name": "python",
   "nbconvert_exporter": "python",
   "pygments_lexer": "ipython3",
   "version": "3.9.12"
  }
 },
 "nbformat": 4,
 "nbformat_minor": 5
}
